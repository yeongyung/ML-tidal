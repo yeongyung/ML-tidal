{
 "cells": [
  {
   "cell_type": "code",
   "execution_count": 1,
   "id": "e867c2b8",
   "metadata": {
    "scrolled": true
   },
   "outputs": [
    {
     "name": "stderr",
     "output_type": "stream",
     "text": [
      "2023-08-08 02:28:22.646467: I tensorflow/core/util/port.cc:110] oneDNN custom operations are on. You may see slightly different numerical results due to floating-point round-off errors from different computation orders. To turn them off, set the environment variable `TF_ENABLE_ONEDNN_OPTS=0`.\n",
      "2023-08-08 02:28:22.689796: I tensorflow/core/platform/cpu_feature_guard.cc:182] This TensorFlow binary is optimized to use available CPU instructions in performance-critical operations.\n",
      "To enable the following instructions: AVX2 AVX512F AVX512_VNNI FMA, in other operations, rebuild TensorFlow with the appropriate compiler flags.\n"
     ]
    }
   ],
   "source": [
    "\n",
    "import matplotlib.pyplot as plt \n",
    "from glob import glob\n",
    "import numpy as np\n",
    "\n",
    "import tensorflow as tf\n",
    "import tensorflow.keras.utils as np_utils\n",
    "from tensorflow.keras.models import Sequential,load_model\n",
    "from tensorflow.keras.layers import Dense,Dropout\n",
    "#from keras.utils.training_utils import multi_gpu_model\n",
    "\n",
    "from sklearn.metrics import confusion_matrix,classification_report\n",
    "import seaborn as sns\n",
    "import os\n",
    "\n",
    "import pickle\n",
    "from joblib import dump, load\n",
    "import pandas as pd\n"
   ]
  },
  {
   "cell_type": "markdown",
   "id": "37fc5c60",
   "metadata": {},
   "source": [
    "## GPU 메모리 자동 증가 설정"
   ]
  },
  {
   "cell_type": "code",
   "execution_count": 2,
   "id": "7ce02002",
   "metadata": {},
   "outputs": [],
   "source": [
    "# GPU 메모리 자동 증가 설정\n",
    "gpus = tf.config.experimental.list_physical_devices('GPU')\n",
    "if gpus:\n",
    "    for gpu in gpus:\n",
    "        tf.config.experimental.set_memory_growth(gpu, True)"
   ]
  },
  {
   "cell_type": "markdown",
   "id": "ca6c9f9b",
   "metadata": {},
   "source": [
    "# TensorFlow GPU 메모리 자동 증가 설정   \n",
    "config = tf.compat.v1.ConfigProto()   \n",
    "config.gpu_options.allow_growth = True   \n",
    "session = tf.compat.v1.Session(config=config)   \n",
    "tf.compat.v1.keras.backend.set_session(session)   "
   ]
  },
  {
   "cell_type": "code",
   "execution_count": 3,
   "id": "e58de5ef",
   "metadata": {},
   "outputs": [],
   "source": [
    "base='/tf/'\n",
    "Grids=1000\n",
    "data = np.load(base+str(Grids)+'data.npz')\n",
    "X_train = data['X_train']\n",
    "y_train = data['y_train']\n",
    "X_val = data['X_val']\n",
    "y_val = data['y_val']\n",
    "X_test = data['X_test']\n",
    "y_test = data['y_test']"
   ]
  },
  {
   "cell_type": "code",
   "execution_count": 4,
   "id": "a24c921b",
   "metadata": {},
   "outputs": [],
   "source": [
    "num_pixels = X_train.shape[1] * X_train.shape[2]\n",
    "X_train = X_train.reshape((X_train.shape[0], num_pixels)).astype('float32')\n",
    "X_test = X_test.reshape((X_test.shape[0], num_pixels)).astype('float32')\n",
    "X_val = X_val.reshape((X_val.shape[0], num_pixels)).astype('float32')\n",
    "\n",
    "maxvalue=X_train[X_train>0].max()\n",
    "\n",
    "X_train = X_train / maxvalue\n",
    "X_train[np.isnan(X_train)==True]=0\n",
    "X_train[np.isinf(X_train)==True]=0\n",
    "\n",
    "X_test = X_test / maxvalue\n",
    "X_test[np.isnan(X_test)==True]=0\n",
    "X_test[np.isinf(X_test)==True]=0\n",
    "\n",
    "X_val = X_val / maxvalue\n",
    "X_val[np.isnan(X_val)==True]=0\n",
    "X_val[np.isinf(X_val)==True]=0"
   ]
  },
  {
   "cell_type": "markdown",
   "id": "26bb06a7",
   "metadata": {},
   "source": [
    "## One-hot encode outputs"
   ]
  },
  {
   "cell_type": "code",
   "execution_count": 5,
   "id": "982c4538",
   "metadata": {},
   "outputs": [],
   "source": [
    "# one hot encode outputs\n",
    "y_train = np_utils.to_categorical(y_train)\n",
    "y_test = np_utils.to_categorical(y_test)\n",
    "y_val = np_utils.to_categorical(y_val)\n",
    "num_classes = y_test.shape[1]"
   ]
  },
  {
   "cell_type": "markdown",
   "id": "3601677f",
   "metadata": {},
   "source": [
    "## Model builiding"
   ]
  },
  {
   "cell_type": "code",
   "execution_count": 6,
   "id": "07f39d25",
   "metadata": {
    "scrolled": true
   },
   "outputs": [
    {
     "name": "stdout",
     "output_type": "stream",
     "text": [
      "INFO:tensorflow:Using MirroredStrategy with devices ('/job:localhost/replica:0/task:0/device:GPU:0', '/job:localhost/replica:0/task:0/device:GPU:1')\n"
     ]
    },
    {
     "name": "stderr",
     "output_type": "stream",
     "text": [
      "2023-08-08 02:28:33.300824: I tensorflow/core/common_runtime/gpu/gpu_device.cc:1639] Created device /job:localhost/replica:0/task:0/device:GPU:0 with 46686 MB memory:  -> device: 0, name: NVIDIA RTX A6000, pci bus id: 0000:4b:00.0, compute capability: 8.6\n",
      "2023-08-08 02:28:33.301405: I tensorflow/core/common_runtime/gpu/gpu_device.cc:1639] Created device /job:localhost/replica:0/task:0/device:GPU:1 with 46686 MB memory:  -> device: 1, name: NVIDIA RTX A6000, pci bus id: 0000:b1:00.0, compute capability: 8.6\n"
     ]
    }
   ],
   "source": [
    "strategy = tf.distribute.MirroredStrategy()\n",
    "nodes,Droprate=512,0.2\n",
    "def baseline_model():\n",
    "# create model\n",
    "    model = Sequential()\n",
    "    model.add(Dense(nodes, input_dim=num_pixels, kernel_initializer='normal', activation='relu'))\n",
    "    model.add(Dropout(Droprate))\n",
    "    \n",
    "    model.add(Dense(nodes, kernel_initializer='normal', activation='relu'))\n",
    "    model.add(Dropout(Droprate))\n",
    "    \n",
    "    model.add(Dense(nodes, kernel_initializer='normal', activation='relu'))\n",
    "    model.add(Dropout(Droprate))\n",
    "    \n",
    "    model.add(Dense(num_classes, kernel_initializer='normal', activation='softmax'))\n",
    "    \n",
    "    model.compile(loss=tf.keras.losses.CategoricalFocalCrossentropy(), optimizer='adam', metrics=['accuracy'])    \n",
    "     #tfa.losses.SigmoidFocalCrossEntropy()\n",
    "    return model\n",
    "# build the model\n",
    "with strategy.scope():\n",
    "    model=baseline_model()\n",
    "    \n"
   ]
  },
  {
   "cell_type": "code",
   "execution_count": 7,
   "id": "be57a9ca",
   "metadata": {},
   "outputs": [
    {
     "name": "stdout",
     "output_type": "stream",
     "text": [
      "Model: \"sequential\"\n",
      "_________________________________________________________________\n",
      " Layer (type)                Output Shape              Param #   \n",
      "=================================================================\n",
      " dense (Dense)               (None, 512)               512000512 \n",
      "                                                                 \n",
      " dropout (Dropout)           (None, 512)               0         \n",
      "                                                                 \n",
      " dense_1 (Dense)             (None, 512)               262656    \n",
      "                                                                 \n",
      " dropout_1 (Dropout)         (None, 512)               0         \n",
      "                                                                 \n",
      " dense_2 (Dense)             (None, 512)               262656    \n",
      "                                                                 \n",
      " dropout_2 (Dropout)         (None, 512)               0         \n",
      "                                                                 \n",
      " dense_3 (Dense)             (None, 3)                 1539      \n",
      "                                                                 \n",
      "=================================================================\n",
      "Total params: 512527363 (1.91 GB)\n",
      "Trainable params: 512527363 (1.91 GB)\n",
      "Non-trainable params: 0 (0.00 Byte)\n",
      "_________________________________________________________________\n"
     ]
    }
   ],
   "source": [
    "model.summary()"
   ]
  },
  {
   "cell_type": "markdown",
   "id": "576f2245",
   "metadata": {},
   "source": [
    "## Model training"
   ]
  },
  {
   "cell_type": "code",
   "execution_count": 8,
   "id": "b10af69f",
   "metadata": {
    "scrolled": true
   },
   "outputs": [
    {
     "name": "stdout",
     "output_type": "stream",
     "text": [
      "Epoch 1/20\n",
      "INFO:tensorflow:Collective all_reduce tensors: 8 all_reduces, num_devices = 2, group_size = 2, implementation = CommunicationImplementation.NCCL, num_packs = 1\n",
      "INFO:tensorflow:Reduce to /job:localhost/replica:0/task:0/device:CPU:0 then broadcast to ('/job:localhost/replica:0/task:0/device:CPU:0',).\n",
      "INFO:tensorflow:Reduce to /job:localhost/replica:0/task:0/device:CPU:0 then broadcast to ('/job:localhost/replica:0/task:0/device:CPU:0',).\n",
      "INFO:tensorflow:Reduce to /job:localhost/replica:0/task:0/device:CPU:0 then broadcast to ('/job:localhost/replica:0/task:0/device:CPU:0',).\n",
      "INFO:tensorflow:Reduce to /job:localhost/replica:0/task:0/device:CPU:0 then broadcast to ('/job:localhost/replica:0/task:0/device:CPU:0',).\n",
      "INFO:tensorflow:Collective all_reduce tensors: 8 all_reduces, num_devices = 2, group_size = 2, implementation = CommunicationImplementation.NCCL, num_packs = 1\n",
      "INFO:tensorflow:Reduce to /job:localhost/replica:0/task:0/device:CPU:0 then broadcast to ('/job:localhost/replica:0/task:0/device:CPU:0',).\n",
      "INFO:tensorflow:Reduce to /job:localhost/replica:0/task:0/device:CPU:0 then broadcast to ('/job:localhost/replica:0/task:0/device:CPU:0',).\n",
      "INFO:tensorflow:Reduce to /job:localhost/replica:0/task:0/device:CPU:0 then broadcast to ('/job:localhost/replica:0/task:0/device:CPU:0',).\n",
      "INFO:tensorflow:Reduce to /job:localhost/replica:0/task:0/device:CPU:0 then broadcast to ('/job:localhost/replica:0/task:0/device:CPU:0',).\n"
     ]
    },
    {
     "name": "stderr",
     "output_type": "stream",
     "text": [
      "2023-08-08 02:28:39.220057: I tensorflow/compiler/xla/stream_executor/cuda/cuda_blas.cc:606] TensorFloat-32 will be used for the matrix multiplication. This will only be logged once.\n",
      "2023-08-08 02:28:40.155833: I tensorflow/compiler/xla/service/service.cc:168] XLA service 0x7f5580044cf0 initialized for platform CUDA (this does not guarantee that XLA will be used). Devices:\n",
      "2023-08-08 02:28:40.155912: I tensorflow/compiler/xla/service/service.cc:176]   StreamExecutor device (0): NVIDIA RTX A6000, Compute Capability 8.6\n",
      "2023-08-08 02:28:40.155931: I tensorflow/compiler/xla/service/service.cc:176]   StreamExecutor device (1): NVIDIA RTX A6000, Compute Capability 8.6\n",
      "2023-08-08 02:28:40.165175: I tensorflow/compiler/mlir/tensorflow/utils/dump_mlir_util.cc:255] disabling MLIR crash reproducer, set env var `MLIR_CRASH_REPRODUCER_DIRECTORY` to enable.\n",
      "2023-08-08 02:28:40.532012: I tensorflow/compiler/xla/stream_executor/cuda/cuda_dnn.cc:432] Loaded cuDNN version 8600\n",
      "2023-08-08 02:28:40.653712: I tensorflow/compiler/xla/stream_executor/cuda/cuda_dnn.cc:432] Loaded cuDNN version 8600\n",
      "2023-08-08 02:28:40.693362: I ./tensorflow/compiler/jit/device_compiler.h:186] Compiled cluster using XLA!  This line is logged at most once for the lifetime of the process.\n"
     ]
    },
    {
     "name": "stdout",
     "output_type": "stream",
     "text": [
      "INFO:tensorflow:Reduce to /job:localhost/replica:0/task:0/device:CPU:0 then broadcast to ('/job:localhost/replica:0/task:0/device:CPU:0',).\n",
      "INFO:tensorflow:Reduce to /job:localhost/replica:0/task:0/device:CPU:0 then broadcast to ('/job:localhost/replica:0/task:0/device:CPU:0',).\n",
      "8/8 - 9s - loss: 1.6968 - accuracy: 0.5635 - val_loss: 1.3222 - val_accuracy: 0.6719 - 9s/epoch - 1s/step\n",
      "Epoch 2/20\n",
      "8/8 - 2s - loss: 1.3112 - accuracy: 0.6746 - val_loss: 1.3222 - val_accuracy: 0.6719 - 2s/epoch - 261ms/step\n",
      "Epoch 3/20\n",
      "8/8 - 2s - loss: 1.3112 - accuracy: 0.6746 - val_loss: 1.3222 - val_accuracy: 0.6719 - 2s/epoch - 270ms/step\n",
      "Epoch 4/20\n",
      "8/8 - 2s - loss: 1.3112 - accuracy: 0.6746 - val_loss: 1.3222 - val_accuracy: 0.6719 - 2s/epoch - 256ms/step\n",
      "Epoch 5/20\n",
      "8/8 - 2s - loss: 1.3112 - accuracy: 0.6746 - val_loss: 1.3222 - val_accuracy: 0.6719 - 2s/epoch - 275ms/step\n",
      "Epoch 6/20\n",
      "8/8 - 2s - loss: 1.3112 - accuracy: 0.6746 - val_loss: 1.3222 - val_accuracy: 0.6719 - 2s/epoch - 280ms/step\n",
      "Epoch 7/20\n",
      "8/8 - 2s - loss: 1.3112 - accuracy: 0.6746 - val_loss: 1.3222 - val_accuracy: 0.6719 - 2s/epoch - 264ms/step\n",
      "Epoch 8/20\n",
      "8/8 - 2s - loss: 1.3112 - accuracy: 0.6746 - val_loss: 1.3222 - val_accuracy: 0.6719 - 2s/epoch - 277ms/step\n",
      "Epoch 9/20\n",
      "8/8 - 2s - loss: 1.3112 - accuracy: 0.6746 - val_loss: 1.3222 - val_accuracy: 0.6719 - 2s/epoch - 278ms/step\n",
      "Epoch 10/20\n",
      "8/8 - 2s - loss: 1.3112 - accuracy: 0.6746 - val_loss: 1.3222 - val_accuracy: 0.6719 - 2s/epoch - 294ms/step\n",
      "Epoch 11/20\n",
      "8/8 - 2s - loss: 1.3112 - accuracy: 0.6746 - val_loss: 1.3222 - val_accuracy: 0.6719 - 2s/epoch - 276ms/step\n",
      "Epoch 12/20\n",
      "8/8 - 2s - loss: 1.3112 - accuracy: 0.6746 - val_loss: 1.3222 - val_accuracy: 0.6719 - 2s/epoch - 278ms/step\n",
      "Epoch 13/20\n",
      "8/8 - 2s - loss: 1.3112 - accuracy: 0.6746 - val_loss: 1.3222 - val_accuracy: 0.6719 - 2s/epoch - 283ms/step\n",
      "Epoch 14/20\n",
      "8/8 - 2s - loss: 1.3112 - accuracy: 0.6746 - val_loss: 1.3222 - val_accuracy: 0.6719 - 2s/epoch - 271ms/step\n",
      "Epoch 15/20\n",
      "8/8 - 2s - loss: 1.3112 - accuracy: 0.6746 - val_loss: 1.3222 - val_accuracy: 0.6719 - 2s/epoch - 281ms/step\n",
      "Epoch 16/20\n",
      "8/8 - 2s - loss: 1.3112 - accuracy: 0.6746 - val_loss: 1.3222 - val_accuracy: 0.6719 - 2s/epoch - 282ms/step\n",
      "Epoch 17/20\n",
      "8/8 - 2s - loss: 1.3112 - accuracy: 0.6746 - val_loss: 1.3222 - val_accuracy: 0.6719 - 2s/epoch - 290ms/step\n",
      "Epoch 18/20\n",
      "8/8 - 2s - loss: 1.3112 - accuracy: 0.6746 - val_loss: 1.3222 - val_accuracy: 0.6719 - 2s/epoch - 287ms/step\n",
      "Epoch 19/20\n",
      "8/8 - 2s - loss: 1.3112 - accuracy: 0.6746 - val_loss: 1.3222 - val_accuracy: 0.6719 - 2s/epoch - 281ms/step\n",
      "Epoch 20/20\n",
      "8/8 - 2s - loss: 1.3112 - accuracy: 0.6746 - val_loss: 1.3222 - val_accuracy: 0.6719 - 2s/epoch - 289ms/step\n",
      "Baseline Error: 32.50%\n"
     ]
    },
    {
     "name": "stderr",
     "output_type": "stream",
     "text": [
      "/usr/local/lib/python3.8/dist-packages/keras/src/engine/training.py:3000: UserWarning: You are saving your model as an HDF5 file via `model.save()`. This file format is considered legacy. We recommend using instead the native Keras format, e.g. `model.save('my_model.keras')`.\n",
      "  saving_api.save_model(\n"
     ]
    },
    {
     "name": "stdout",
     "output_type": "stream",
     "text": [
      "\n",
      " Saved trained model at /tf/Results/models/1000/Log/MLP/1000_HL3_512_FL.h5 \n",
      "Baseline Error: 32.50%\n"
     ]
    },
    {
     "data": {
      "text/plain": [
       "['/tf/Results/histories/1000/Log/MLP/1000_HL3_512_FL.joblib']"
      ]
     },
     "execution_count": 8,
     "metadata": {},
     "output_type": "execute_result"
    }
   ],
   "source": [
    "\n",
    "# Fit the model\n",
    "history=model.fit(X_train, y_train, validation_data=(X_val, y_val), epochs=20, batch_size=32, verbose=2)\n",
    "\n",
    "# Final evaluation of the model\n",
    "scores = model.evaluate(X_test, y_test, verbose=0)\n",
    "print(\"Baseline Error: %.2f%%\" % (100-scores[1]*100))\n",
    "\n",
    "# Saving the model\n",
    "save_dir = \"/tf/Results/models/%i/Log/MLP/\"%Grids\n",
    "model_name = '%i_HL3_%i_FL'%(Grids,nodes)#_Drop_0.2\n",
    "model_path = os.path.join(save_dir, model_name+'.h5')\n",
    "model.save(model_path)\n",
    "print('\\n Saved trained model at %s ' % model_path)\n",
    "\n",
    "# Final evaluation of the model\n",
    "scores = model.evaluate(X_test, y_test, verbose=0)\n",
    "print(\"Baseline Error: %.2f%%\" % (100-scores[1]*100))\n",
    "\n",
    "\n",
    "# Saving history of the model\n",
    "dump(history.history, '/tf/Results/histories/%i/Log/MLP/'%Grids+model_name+'.joblib')"
   ]
  },
  {
   "cell_type": "markdown",
   "id": "b50a60f6",
   "metadata": {},
   "source": [
    "## Model 별 Accuracy, loss 변화도"
   ]
  },
  {
   "cell_type": "code",
   "execution_count": 9,
   "id": "9c310c67",
   "metadata": {
    "scrolled": true
   },
   "outputs": [
    {
     "data": {
      "image/png": "[encoded data removed]",
      "text/plain": [
       "<Figure size 1000x250 with 2 Axes>"
      ]
     },
     "metadata": {},
     "output_type": "display_data"
    }
   ],
   "source": [
    "# plotting the metrics\n",
    "fig = plt.figure(figsize=(10,2.5))\n",
    "\n",
    "plt.subplot(1,2,1)\n",
    "plt.plot(history.history['accuracy'])\n",
    "plt.plot(history.history['val_accuracy'])\n",
    "plt.title('model accuracy')\n",
    "plt.ylabel('accuracy')\n",
    "plt.xlabel('epoch')\n",
    "plt.legend(['train', 'test'], loc='lower right')\n",
    "\n",
    "plt.subplot(1,2,2)\n",
    "plt.plot(history.history['loss'])\n",
    "plt.plot(history.history['val_loss'])\n",
    "plt.title('model loss')\n",
    "plt.ylabel('loss')\n",
    "plt.xlabel('epoch')\n",
    "plt.legend(['train', 'test'], loc='upper right')\n",
    "\n",
    "plt.tight_layout()\n",
    "plt.show()"
   ]
  },
  {
   "cell_type": "markdown",
   "id": "f2c4198a",
   "metadata": {},
   "source": [
    "## Drawing Confusion Matrix"
   ]
  },
  {
   "cell_type": "code",
   "execution_count": 10,
   "id": "44723038",
   "metadata": {
    "scrolled": false
   },
   "outputs": [
    {
     "name": "stdout",
     "output_type": "stream",
     "text": [
      "3/3 [==============================] - 0s 17ms/step\n"
     ]
    }
   ],
   "source": [
    "y_pred=model.predict(X_test)\n",
    "confM=confusion_matrix(np.argmax(y_test,axis=1),np.argmax(y_pred,axis=1))\n",
    "class_totals = np.sum(confM, axis=1)\n",
    "cm_norm = confM / class_totals[:, np.newaxis]\n",
    "np.savez('/tf/Results/confusion/'+str(Grids)+'/Log/MLP/'+model_name+'.npz', confusion=confM)"
   ]
  },
  {
   "cell_type": "code",
   "execution_count": 11,
   "id": "d36dacc1",
   "metadata": {},
   "outputs": [
    {
     "data": {
      "image/png": "[encoded data removed]",
      "text/plain": [
       "<Figure size 600x500 with 2 Axes>"
      ]
     },
     "metadata": {},
     "output_type": "display_data"
    }
   ],
   "source": [
    "labels=['MergerX','MergerO','MergerΔ']\n",
    "#print(data)\n",
    "# Drawing confusion matrix with seaborn\n",
    "plt.figure(figsize=(6,5))\n",
    "sns.heatmap(cm_norm,annot=True,fmt=\".1%\",cmap='GnBu',xticklabels=labels, yticklabels=labels)\n",
    "plt.xlabel('predictive value')\n",
    "plt.ylabel('actual value')\n",
    "\n",
    "plt.title(model_name)\n",
    "plt.show() "
   ]
  },
  {
   "cell_type": "code",
   "execution_count": 12,
   "id": "e5f409c1",
   "metadata": {},
   "outputs": [
    {
     "name": "stderr",
     "output_type": "stream",
     "text": [
      "/usr/local/lib/python3.8/dist-packages/sklearn/metrics/_classification.py:1469: UndefinedMetricWarning: Precision and F-score are ill-defined and being set to 0.0 in labels with no predicted samples. Use `zero_division` parameter to control this behavior.\n",
      "  _warn_prf(average, modifier, msg_start, len(result))\n",
      "/usr/local/lib/python3.8/dist-packages/sklearn/metrics/_classification.py:1469: UndefinedMetricWarning: Precision and F-score are ill-defined and being set to 0.0 in labels with no predicted samples. Use `zero_division` parameter to control this behavior.\n",
      "  _warn_prf(average, modifier, msg_start, len(result))\n",
      "/usr/local/lib/python3.8/dist-packages/sklearn/metrics/_classification.py:1469: UndefinedMetricWarning: Precision and F-score are ill-defined and being set to 0.0 in labels with no predicted samples. Use `zero_division` parameter to control this behavior.\n",
      "  _warn_prf(average, modifier, msg_start, len(result))\n"
     ]
    },
    {
     "data": {
      "text/html": [
       "<div>\n",
       "<style scoped>\n",
       "    .dataframe tbody tr th:only-of-type {\n",
       "        vertical-align: middle;\n",
       "    }\n",
       "\n",
       "    .dataframe tbody tr th {\n",
       "        vertical-align: top;\n",
       "    }\n",
       "\n",
       "    .dataframe thead th {\n",
       "        text-align: right;\n",
       "    }\n",
       "</style>\n",
       "<table border=\"1\" class=\"dataframe\">\n",
       "  <thead>\n",
       "    <tr style=\"text-align: right;\">\n",
       "      <th></th>\n",
       "      <th>precision</th>\n",
       "      <th>recall</th>\n",
       "      <th>f1-score</th>\n",
       "      <th>support</th>\n",
       "    </tr>\n",
       "  </thead>\n",
       "  <tbody>\n",
       "    <tr>\n",
       "      <th>0</th>\n",
       "      <td>0.675000</td>\n",
       "      <td>1.000000</td>\n",
       "      <td>0.805970</td>\n",
       "      <td>54.000</td>\n",
       "    </tr>\n",
       "    <tr>\n",
       "      <th>1</th>\n",
       "      <td>0.000000</td>\n",
       "      <td>0.000000</td>\n",
       "      <td>0.000000</td>\n",
       "      <td>21.000</td>\n",
       "    </tr>\n",
       "    <tr>\n",
       "      <th>2</th>\n",
       "      <td>0.000000</td>\n",
       "      <td>0.000000</td>\n",
       "      <td>0.000000</td>\n",
       "      <td>5.000</td>\n",
       "    </tr>\n",
       "    <tr>\n",
       "      <th>accuracy</th>\n",
       "      <td>0.675000</td>\n",
       "      <td>0.675000</td>\n",
       "      <td>0.675000</td>\n",
       "      <td>0.675</td>\n",
       "    </tr>\n",
       "    <tr>\n",
       "      <th>macro avg</th>\n",
       "      <td>0.225000</td>\n",
       "      <td>0.333333</td>\n",
       "      <td>0.268657</td>\n",
       "      <td>80.000</td>\n",
       "    </tr>\n",
       "    <tr>\n",
       "      <th>weighted avg</th>\n",
       "      <td>0.455625</td>\n",
       "      <td>0.675000</td>\n",
       "      <td>0.544030</td>\n",
       "      <td>80.000</td>\n",
       "    </tr>\n",
       "  </tbody>\n",
       "</table>\n",
       "</div>"
      ],
      "text/plain": [
       "              precision    recall  f1-score  support\n",
       "0              0.675000  1.000000  0.805970   54.000\n",
       "1              0.000000  0.000000  0.000000   21.000\n",
       "2              0.000000  0.000000  0.000000    5.000\n",
       "accuracy       0.675000  0.675000  0.675000    0.675\n",
       "macro avg      0.225000  0.333333  0.268657   80.000\n",
       "weighted avg   0.455625  0.675000  0.544030   80.000"
      ]
     },
     "execution_count": 12,
     "metadata": {},
     "output_type": "execute_result"
    }
   ],
   "source": [
    "report=classification_report(np.argmax(y_test,axis=1),np.argmax(y_pred,axis=1),output_dict=True)\n",
    "\n",
    "df=pd.DataFrame(report).transpose()\n",
    "df.to_hdf('/tf/Results/confusion/'+str(Grids)+'/Log/MLP/'+model_name+'.h5',key='Galaxy',mode='w')   \n",
    "df"
   ]
  }
 ],
 "metadata": {
  "kernelspec": {
   "display_name": "Python 3 (ipykernel)",
   "language": "python",
   "name": "python3"
  },
  "language_info": {
   "codemirror_mode": {
    "name": "ipython",
    "version": 3
   },
   "file_extension": ".py",
   "mimetype": "text/x-python",
   "name": "python",
   "nbconvert_exporter": "python",
   "pygments_lexer": "ipython3",
   "version": "3.8.10"
  }
 },
 "nbformat": 4,
 "nbformat_minor": 5
}
