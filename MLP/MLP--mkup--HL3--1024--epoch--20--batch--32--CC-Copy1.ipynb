{
 "cells": [
  {
   "cell_type": "code",
   "execution_count": 1,
   "id": "e867c2b8",
   "metadata": {
    "scrolled": true
   },
   "outputs": [
    {
     "name": "stderr",
     "output_type": "stream",
     "text": [
      "2023-08-08 04:13:13.217265: I tensorflow/core/util/port.cc:110] oneDNN custom operations are on. You may see slightly different numerical results due to floating-point round-off errors from different computation orders. To turn them off, set the environment variable `TF_ENABLE_ONEDNN_OPTS=0`.\n",
      "2023-08-08 04:13:13.278350: I tensorflow/core/platform/cpu_feature_guard.cc:182] This TensorFlow binary is optimized to use available CPU instructions in performance-critical operations.\n",
      "To enable the following instructions: AVX2 AVX512F AVX512_VNNI FMA, in other operations, rebuild TensorFlow with the appropriate compiler flags.\n"
     ]
    }
   ],
   "source": [
    "\n",
    "import matplotlib.pyplot as plt \n",
    "from glob import glob\n",
    "import numpy as np\n",
    "\n",
    "import tensorflow as tf\n",
    "import tensorflow.keras.utils as np_utils\n",
    "from tensorflow.keras.models import Sequential,load_model\n",
    "from tensorflow.keras.layers import Dense,Dropout\n",
    "#from keras.utils.training_utils import multi_gpu_model\n",
    "\n",
    "from sklearn.metrics import confusion_matrix,classification_report\n",
    "import seaborn as sns\n",
    "import os\n",
    "\n",
    "import pickle\n",
    "from joblib import dump, load\n",
    "import pandas as pd\n"
   ]
  },
  {
   "cell_type": "markdown",
   "id": "37fc5c60",
   "metadata": {},
   "source": [
    "## GPU 메모리 자동 증가 설정"
   ]
  },
  {
   "cell_type": "code",
   "execution_count": 2,
   "id": "7ce02002",
   "metadata": {},
   "outputs": [],
   "source": [
    "# GPU 메모리 자동 증가 설정\n",
    "gpus = tf.config.experimental.list_physical_devices('GPU')\n",
    "if gpus:\n",
    "    for gpu in gpus:\n",
    "        tf.config.experimental.set_memory_growth(gpu, True)"
   ]
  },
  {
   "cell_type": "markdown",
   "id": "ca6c9f9b",
   "metadata": {},
   "source": [
    "# TensorFlow GPU 메모리 자동 증가 설정   \n",
    "config = tf.compat.v1.ConfigProto()   \n",
    "config.gpu_options.allow_growth = True   \n",
    "session = tf.compat.v1.Session(config=config)   \n",
    "tf.compat.v1.keras.backend.set_session(session)   "
   ]
  },
  {
   "cell_type": "code",
   "execution_count": 3,
   "id": "e58de5ef",
   "metadata": {},
   "outputs": [],
   "source": [
    "base='/tf/'\n",
    "Grids=1000\n",
    "data = np.load(base+str(Grids)+'data.npz')\n",
    "X_train = data['X_train']\n",
    "y_train = data['y_train']\n",
    "X_val = data['X_val']\n",
    "y_val = data['y_val']\n",
    "X_test = data['X_test']\n",
    "y_test = data['y_test']"
   ]
  },
  {
   "cell_type": "markdown",
   "id": "37a933b3",
   "metadata": {},
   "source": [
    "# add) Masking SB <26 (brighter) "
   ]
  },
  {
   "cell_type": "code",
   "execution_count": 4,
   "id": "1cb45646",
   "metadata": {},
   "outputs": [],
   "source": [
    "X_test[X_test<26]=0\n",
    "X_val[X_val<26]=0\n",
    "X_train[X_train<26]=0"
   ]
  },
  {
   "cell_type": "code",
   "execution_count": 5,
   "id": "a24c921b",
   "metadata": {},
   "outputs": [],
   "source": [
    "num_pixels = X_train.shape[1] * X_train.shape[2]\n",
    "X_train = X_train.reshape((X_train.shape[0], num_pixels)).astype('float32')\n",
    "X_test = X_test.reshape((X_test.shape[0], num_pixels)).astype('float32')\n",
    "X_val = X_val.reshape((X_val.shape[0], num_pixels)).astype('float32')\n",
    "\n",
    "maxvalue=X_train[X_train>0].max()\n",
    "\n",
    "X_train = X_train / maxvalue\n",
    "X_train[np.isnan(X_train)==True]=0\n",
    "X_train[np.isinf(X_train)==True]=0\n",
    "\n",
    "X_test = X_test / maxvalue\n",
    "X_test[np.isnan(X_test)==True]=0\n",
    "X_test[np.isinf(X_test)==True]=0\n",
    "\n",
    "X_val = X_val / maxvalue\n",
    "X_val[np.isnan(X_val)==True]=0\n",
    "X_val[np.isinf(X_val)==True]=0"
   ]
  },
  {
   "cell_type": "markdown",
   "id": "26bb06a7",
   "metadata": {},
   "source": [
    "## One-hot encode outputs"
   ]
  },
  {
   "cell_type": "code",
   "execution_count": 6,
   "id": "982c4538",
   "metadata": {},
   "outputs": [],
   "source": [
    "# one hot encode outputs\n",
    "y_train = np_utils.to_categorical(y_train)\n",
    "y_test = np_utils.to_categorical(y_test)\n",
    "y_val = np_utils.to_categorical(y_val)\n",
    "num_classes = y_test.shape[1]"
   ]
  },
  {
   "cell_type": "markdown",
   "id": "3601677f",
   "metadata": {},
   "source": [
    "## Model builiding"
   ]
  },
  {
   "cell_type": "code",
   "execution_count": 10,
   "id": "07f39d25",
   "metadata": {
    "scrolled": true
   },
   "outputs": [
    {
     "name": "stdout",
     "output_type": "stream",
     "text": [
      "INFO:tensorflow:Using MirroredStrategy with devices ('/job:localhost/replica:0/task:0/device:GPU:0', '/job:localhost/replica:0/task:0/device:GPU:1')\n"
     ]
    }
   ],
   "source": [
    "strategy = tf.distribute.MirroredStrategy()\n",
    "nodes,Droprate=1024,0.2\n",
    "def baseline_model():\n",
    "# create model\n",
    "    model = Sequential()\n",
    "    model.add(Dense(nodes, input_dim=num_pixels, kernel_initializer='normal', activation='relu'))\n",
    "    model.add(Dropout(Droprate))\n",
    "    \n",
    "    model.add(Dense(nodes, kernel_initializer='normal', activation='relu'))\n",
    "    model.add(Dropout(Droprate))\n",
    "    \n",
    "    model.add(Dense(nodes, kernel_initializer='normal', activation='relu'))\n",
    "    model.add(Dropout(Droprate))\n",
    "    \n",
    "    model.add(Dense(num_classes, kernel_initializer='normal', activation='softmax'))\n",
    "    \n",
    "    model.compile(loss='categorical_crossentropy', optimizer='adam', metrics=['accuracy'])       \n",
    "     #tfa.losses.SigmoidFocalCrossEntropy()\n",
    "    return model\n",
    "# build the model\n",
    "with strategy.scope():\n",
    "    model=baseline_model()\n",
    "    \n"
   ]
  },
  {
   "cell_type": "code",
   "execution_count": 11,
   "id": "c78dd535",
   "metadata": {},
   "outputs": [
    {
     "name": "stdout",
     "output_type": "stream",
     "text": [
      "Model: \"sequential_1\"\n",
      "_________________________________________________________________\n",
      " Layer (type)                Output Shape              Param #   \n",
      "=================================================================\n",
      " dense_4 (Dense)             (None, 1024)              1024001024\n",
      "                                                                 \n",
      " dropout_3 (Dropout)         (None, 1024)              0         \n",
      "                                                                 \n",
      " dense_5 (Dense)             (None, 1024)              1049600   \n",
      "                                                                 \n",
      " dropout_4 (Dropout)         (None, 1024)              0         \n",
      "                                                                 \n",
      " dense_6 (Dense)             (None, 1024)              1049600   \n",
      "                                                                 \n",
      " dropout_5 (Dropout)         (None, 1024)              0         \n",
      "                                                                 \n",
      " dense_7 (Dense)             (None, 3)                 3075      \n",
      "                                                                 \n",
      "=================================================================\n",
      "Total params: 1026103299 (3.82 GB)\n",
      "Trainable params: 1026103299 (3.82 GB)\n",
      "Non-trainable params: 0 (0.00 Byte)\n",
      "_________________________________________________________________\n"
     ]
    }
   ],
   "source": [
    "model.summary()"
   ]
  },
  {
   "cell_type": "markdown",
   "id": "576f2245",
   "metadata": {},
   "source": [
    "## Model training"
   ]
  },
  {
   "cell_type": "code",
   "execution_count": 12,
   "id": "b10af69f",
   "metadata": {
    "scrolled": true
   },
   "outputs": [
    {
     "name": "stdout",
     "output_type": "stream",
     "text": [
      "Epoch 1/20\n",
      "INFO:tensorflow:Collective all_reduce tensors: 8 all_reduces, num_devices = 2, group_size = 2, implementation = CommunicationImplementation.NCCL, num_packs = 1\n",
      "INFO:tensorflow:Collective all_reduce tensors: 8 all_reduces, num_devices = 2, group_size = 2, implementation = CommunicationImplementation.NCCL, num_packs = 1\n",
      "8/8 - 9s - loss: 1403.0416 - accuracy: 0.4960 - val_loss: 671.1423 - val_accuracy: 0.2656 - 9s/epoch - 1s/step\n",
      "Epoch 2/20\n",
      "8/8 - 4s - loss: 523.4996 - accuracy: 0.5079 - val_loss: 441.3552 - val_accuracy: 0.6719 - 4s/epoch - 481ms/step\n",
      "Epoch 3/20\n",
      "8/8 - 4s - loss: 344.8449 - accuracy: 0.5675 - val_loss: 127.9856 - val_accuracy: 0.6719 - 4s/epoch - 497ms/step\n",
      "Epoch 4/20\n",
      "8/8 - 4s - loss: 151.4174 - accuracy: 0.5357 - val_loss: 108.8849 - val_accuracy: 0.6719 - 4s/epoch - 469ms/step\n",
      "Epoch 5/20\n",
      "8/8 - 4s - loss: 101.4883 - accuracy: 0.6151 - val_loss: 26.7836 - val_accuracy: 0.7031 - 4s/epoch - 501ms/step\n",
      "Epoch 6/20\n",
      "8/8 - 4s - loss: 92.8083 - accuracy: 0.5635 - val_loss: 87.5399 - val_accuracy: 0.1406 - 4s/epoch - 488ms/step\n",
      "Epoch 7/20\n",
      "8/8 - 4s - loss: 71.9912 - accuracy: 0.5516 - val_loss: 31.2883 - val_accuracy: 0.6719 - 4s/epoch - 506ms/step\n",
      "Epoch 8/20\n",
      "8/8 - 4s - loss: 51.5207 - accuracy: 0.6151 - val_loss: 49.2752 - val_accuracy: 0.6719 - 4s/epoch - 475ms/step\n",
      "Epoch 9/20\n",
      "8/8 - 4s - loss: 27.0311 - accuracy: 0.6389 - val_loss: 14.1991 - val_accuracy: 0.6875 - 4s/epoch - 505ms/step\n",
      "Epoch 10/20\n",
      "8/8 - 4s - loss: 19.8825 - accuracy: 0.6905 - val_loss: 13.4287 - val_accuracy: 0.7031 - 4s/epoch - 477ms/step\n",
      "Epoch 11/20\n",
      "8/8 - 4s - loss: 14.7526 - accuracy: 0.7143 - val_loss: 10.2195 - val_accuracy: 0.6719 - 4s/epoch - 471ms/step\n",
      "Epoch 12/20\n",
      "8/8 - 4s - loss: 7.8397 - accuracy: 0.7024 - val_loss: 18.5705 - val_accuracy: 0.3594 - 4s/epoch - 498ms/step\n",
      "Epoch 13/20\n",
      "8/8 - 4s - loss: 7.5673 - accuracy: 0.7222 - val_loss: 6.4339 - val_accuracy: 0.7031 - 4s/epoch - 474ms/step\n",
      "Epoch 14/20\n",
      "8/8 - 4s - loss: 3.7017 - accuracy: 0.6825 - val_loss: 2.9267 - val_accuracy: 0.6719 - 4s/epoch - 474ms/step\n",
      "Epoch 15/20\n",
      "8/8 - 4s - loss: 0.7284 - accuracy: 0.6270 - val_loss: 1.1997 - val_accuracy: 0.5156 - 4s/epoch - 491ms/step\n",
      "Epoch 16/20\n",
      "8/8 - 4s - loss: 0.6638 - accuracy: 0.7183 - val_loss: 1.5741 - val_accuracy: 0.6250 - 4s/epoch - 477ms/step\n",
      "Epoch 17/20\n",
      "8/8 - 4s - loss: 0.6782 - accuracy: 0.7024 - val_loss: 1.3976 - val_accuracy: 0.6094 - 4s/epoch - 467ms/step\n",
      "Epoch 18/20\n",
      "8/8 - 4s - loss: 0.5440 - accuracy: 0.8333 - val_loss: 2.0343 - val_accuracy: 0.5625 - 4s/epoch - 472ms/step\n",
      "Epoch 19/20\n",
      "8/8 - 4s - loss: 0.5050 - accuracy: 0.7778 - val_loss: 2.7810 - val_accuracy: 0.6719 - 4s/epoch - 458ms/step\n",
      "Epoch 20/20\n",
      "8/8 - 4s - loss: 0.7313 - accuracy: 0.6825 - val_loss: 1.2477 - val_accuracy: 0.6719 - 4s/epoch - 472ms/step\n",
      "Baseline Error: 31.25%\n"
     ]
    },
    {
     "name": "stderr",
     "output_type": "stream",
     "text": [
      "/usr/local/lib/python3.8/dist-packages/keras/src/engine/training.py:3000: UserWarning: You are saving your model as an HDF5 file via `model.save()`. This file format is considered legacy. We recommend using instead the native Keras format, e.g. `model.save('my_model.keras')`.\n",
      "  saving_api.save_model(\n"
     ]
    },
    {
     "name": "stdout",
     "output_type": "stream",
     "text": [
      "\n",
      " Saved trained model at /tf/Results/models/1000/Log/MLP/1000_mkup_HL31024.h5 \n",
      "Baseline Error: 31.25%\n"
     ]
    },
    {
     "data": {
      "text/plain": [
       "['/tf/Results/histories/1000/Log/MLP/1000_mkup_HL31024.joblib']"
      ]
     },
     "execution_count": 12,
     "metadata": {},
     "output_type": "execute_result"
    }
   ],
   "source": [
    "\n",
    "# Fit the model\n",
    "history=model.fit(X_train, y_train, validation_data=(X_val, y_val), epochs=20, batch_size=32, verbose=2)\n",
    "\n",
    "# Final evaluation of the model\n",
    "scores = model.evaluate(X_test, y_test, verbose=0)\n",
    "print(\"Baseline Error: %.2f%%\" % (100-scores[1]*100))\n",
    "\n",
    "# Saving the model\n",
    "save_dir = \"/tf/Results/models/%i/Log/MLP/\"%Grids\n",
    "model_name = '%i_mkup_HL3_%i'%(Grids,nodes)#_Drop_0.2\n",
    "model_path = os.path.join(save_dir, model_name+'.h5')\n",
    "model.save(model_path)\n",
    "print('\\n Saved trained model at %s ' % model_path)\n",
    "\n",
    "# Final evaluation of the model\n",
    "scores = model.evaluate(X_test, y_test, verbose=0)\n",
    "print(\"Baseline Error: %.2f%%\" % (100-scores[1]*100))\n",
    "\n",
    "\n",
    "# Saving history of the model\n",
    "dump(history.history, '/tf/Results/histories/%i/Log/MLP/'%Grids+model_name+'.joblib')"
   ]
  },
  {
   "cell_type": "markdown",
   "id": "b50a60f6",
   "metadata": {},
   "source": [
    "## Model 별 Accuracy, loss 변화도"
   ]
  },
  {
   "cell_type": "code",
   "execution_count": 13,
   "id": "9c310c67",
   "metadata": {
    "scrolled": true
   },
   "outputs": [
    {
     "data": {
      "image/png": "[encoded data removed]",
      "text/plain": [
       "<Figure size 1000x250 with 2 Axes>"
      ]
     },
     "metadata": {},
     "output_type": "display_data"
    }
   ],
   "source": [
    "# plotting the metrics\n",
    "fig = plt.figure(figsize=(10,2.5))\n",
    "\n",
    "plt.subplot(1,2,1)\n",
    "plt.plot(history.history['accuracy'])\n",
    "plt.plot(history.history['val_accuracy'])\n",
    "plt.title('model accuracy')\n",
    "plt.ylabel('accuracy')\n",
    "plt.xlabel('epoch')\n",
    "plt.legend(['train', 'test'], loc='lower right')\n",
    "\n",
    "plt.subplot(1,2,2)\n",
    "plt.plot(history.history['loss'])\n",
    "plt.plot(history.history['val_loss'])\n",
    "plt.title('model loss')\n",
    "plt.ylabel('loss')\n",
    "plt.xlabel('epoch')\n",
    "plt.legend(['train', 'test'], loc='upper right')\n",
    "\n",
    "plt.tight_layout()\n",
    "plt.show()"
   ]
  },
  {
   "cell_type": "markdown",
   "id": "f2c4198a",
   "metadata": {},
   "source": [
    "## Drawing Confusion Matrix"
   ]
  },
  {
   "cell_type": "code",
   "execution_count": 14,
   "id": "44723038",
   "metadata": {
    "scrolled": false
   },
   "outputs": [
    {
     "name": "stdout",
     "output_type": "stream",
     "text": [
      "3/3 [==============================] - 0s 24ms/step\n"
     ]
    }
   ],
   "source": [
    "y_pred=model.predict(X_test)\n",
    "confM=confusion_matrix(np.argmax(y_test,axis=1),np.argmax(y_pred,axis=1))\n",
    "class_totals = np.sum(confM, axis=1)\n",
    "cm_norm = confM / class_totals[:, np.newaxis]\n",
    "np.savez('/tf/Results/confusion/'+str(Grids)+'/Log/MLP/'+model_name+'.npz', confusion=confM)"
   ]
  },
  {
   "cell_type": "code",
   "execution_count": 15,
   "id": "7002ef4d",
   "metadata": {},
   "outputs": [
    {
     "data": {
      "image/png": "[encoded data removed]",
      "text/plain": [
       "<Figure size 600x500 with 2 Axes>"
      ]
     },
     "metadata": {},
     "output_type": "display_data"
    }
   ],
   "source": [
    "labels=['MergerX','MergerO','MergerΔ']\n",
    "#print(data)\n",
    "# Drawing confusion matrix with seaborn\n",
    "plt.figure(figsize=(6,5))\n",
    "sns.heatmap(cm_norm,annot=True,fmt=\".1%\",cmap='GnBu',xticklabels=labels, yticklabels=labels)\n",
    "plt.xlabel('predictive value')\n",
    "plt.ylabel('actual value')\n",
    "\n",
    "plt.title(model_name)\n",
    "plt.show() "
   ]
  },
  {
   "cell_type": "code",
   "execution_count": 16,
   "id": "93467563",
   "metadata": {},
   "outputs": [
    {
     "name": "stderr",
     "output_type": "stream",
     "text": [
      "/usr/local/lib/python3.8/dist-packages/sklearn/metrics/_classification.py:1469: UndefinedMetricWarning: Precision and F-score are ill-defined and being set to 0.0 in labels with no predicted samples. Use `zero_division` parameter to control this behavior.\n",
      "  _warn_prf(average, modifier, msg_start, len(result))\n",
      "/usr/local/lib/python3.8/dist-packages/sklearn/metrics/_classification.py:1469: UndefinedMetricWarning: Precision and F-score are ill-defined and being set to 0.0 in labels with no predicted samples. Use `zero_division` parameter to control this behavior.\n",
      "  _warn_prf(average, modifier, msg_start, len(result))\n",
      "/usr/local/lib/python3.8/dist-packages/sklearn/metrics/_classification.py:1469: UndefinedMetricWarning: Precision and F-score are ill-defined and being set to 0.0 in labels with no predicted samples. Use `zero_division` parameter to control this behavior.\n",
      "  _warn_prf(average, modifier, msg_start, len(result))\n"
     ]
    },
    {
     "data": {
      "text/html": [
       "<div>\n",
       "<style scoped>\n",
       "    .dataframe tbody tr th:only-of-type {\n",
       "        vertical-align: middle;\n",
       "    }\n",
       "\n",
       "    .dataframe tbody tr th {\n",
       "        vertical-align: top;\n",
       "    }\n",
       "\n",
       "    .dataframe thead th {\n",
       "        text-align: right;\n",
       "    }\n",
       "</style>\n",
       "<table border=\"1\" class=\"dataframe\">\n",
       "  <thead>\n",
       "    <tr style=\"text-align: right;\">\n",
       "      <th></th>\n",
       "      <th>precision</th>\n",
       "      <th>recall</th>\n",
       "      <th>f1-score</th>\n",
       "      <th>support</th>\n",
       "    </tr>\n",
       "  </thead>\n",
       "  <tbody>\n",
       "    <tr>\n",
       "      <th>0</th>\n",
       "      <td>0.683544</td>\n",
       "      <td>1.000000</td>\n",
       "      <td>0.812030</td>\n",
       "      <td>54.0000</td>\n",
       "    </tr>\n",
       "    <tr>\n",
       "      <th>1</th>\n",
       "      <td>1.000000</td>\n",
       "      <td>0.047619</td>\n",
       "      <td>0.090909</td>\n",
       "      <td>21.0000</td>\n",
       "    </tr>\n",
       "    <tr>\n",
       "      <th>2</th>\n",
       "      <td>0.000000</td>\n",
       "      <td>0.000000</td>\n",
       "      <td>0.000000</td>\n",
       "      <td>5.0000</td>\n",
       "    </tr>\n",
       "    <tr>\n",
       "      <th>accuracy</th>\n",
       "      <td>0.687500</td>\n",
       "      <td>0.687500</td>\n",
       "      <td>0.687500</td>\n",
       "      <td>0.6875</td>\n",
       "    </tr>\n",
       "    <tr>\n",
       "      <th>macro avg</th>\n",
       "      <td>0.561181</td>\n",
       "      <td>0.349206</td>\n",
       "      <td>0.300980</td>\n",
       "      <td>80.0000</td>\n",
       "    </tr>\n",
       "    <tr>\n",
       "      <th>weighted avg</th>\n",
       "      <td>0.723892</td>\n",
       "      <td>0.687500</td>\n",
       "      <td>0.571984</td>\n",
       "      <td>80.0000</td>\n",
       "    </tr>\n",
       "  </tbody>\n",
       "</table>\n",
       "</div>"
      ],
      "text/plain": [
       "              precision    recall  f1-score  support\n",
       "0              0.683544  1.000000  0.812030  54.0000\n",
       "1              1.000000  0.047619  0.090909  21.0000\n",
       "2              0.000000  0.000000  0.000000   5.0000\n",
       "accuracy       0.687500  0.687500  0.687500   0.6875\n",
       "macro avg      0.561181  0.349206  0.300980  80.0000\n",
       "weighted avg   0.723892  0.687500  0.571984  80.0000"
      ]
     },
     "execution_count": 16,
     "metadata": {},
     "output_type": "execute_result"
    }
   ],
   "source": [
    "report=classification_report(np.argmax(y_test,axis=1),np.argmax(y_pred,axis=1),output_dict=True)\n",
    "\n",
    "df=pd.DataFrame(report).transpose()\n",
    "df.to_hdf('/tf/Results/confusion/'+str(Grids)+'/Log/MLP/'+model_name+'.h5',key='Galaxy',mode='w')   \n",
    "df"
   ]
  },
  {
   "cell_type": "code",
   "execution_count": null,
   "id": "2fbc71f8",
   "metadata": {},
   "outputs": [],
   "source": []
  }
 ],
 "metadata": {
  "kernelspec": {
   "display_name": "Python 3 (ipykernel)",
   "language": "python",
   "name": "python3"
  },
  "language_info": {
   "codemirror_mode": {
    "name": "ipython",
    "version": 3
   },
   "file_extension": ".py",
   "mimetype": "text/x-python",
   "name": "python",
   "nbconvert_exporter": "python",
   "pygments_lexer": "ipython3",
   "version": "3.8.10"
  }
 },
 "nbformat": 4,
 "nbformat_minor": 5
}
